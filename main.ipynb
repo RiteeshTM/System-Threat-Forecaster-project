{
 "cells": [
  {
   "cell_type": "markdown",
   "metadata": {},
   "source": [
    "## Training a Logistic Regression Model and selecting best hyperparameters using grid-search cv and dropping categorical columns"
   ]
  },
  {
   "cell_type": "code",
   "execution_count": null,
   "metadata": {},
   "outputs": [],
   "source": [
    "import pandas as pd\n",
    "import numpy as np\n",
    "from sklearn.pipeline import Pipeline\n",
    "from sklearn.impute import SimpleImputer\n",
    "from sklearn.preprocessing import StandardScaler\n",
    "from sklearn.model_selection import train_test_split, GridSearchCV\n",
    "from sklearn.linear_model import LogisticRegression\n",
    "df = pd.read_csv(\"/kaggle/input/System-Threat-Forecaster/train.csv\")\n",
    "df.head()"
   ]
  },
  {
   "cell_type": "code",
   "execution_count": null,
   "metadata": {
    "execution": {
     "iopub.execute_input": "2025-02-27T15:27:02.414871Z",
     "iopub.status.busy": "2025-02-27T15:27:02.414594Z",
     "iopub.status.idle": "2025-02-27T15:27:17.297921Z",
     "shell.execute_reply": "2025-02-27T15:27:17.297037Z",
     "shell.execute_reply.started": "2025-02-27T15:27:02.414853Z"
    },
    "trusted": true
   },
   "outputs": [],
   "source": [
    "df_clean = df.drop(columns=[\"MachineID\", \"DateAS\", \"DateOS\"], errors=\"ignore\")\n",
    "\n",
    "X = df_clean.drop(columns=[\"target\"])\n",
    "\n",
    "numeric_cols = X.select_dtypes(include=[\"int64\", \"float64\"]).columns\n",
    "X = X[numeric_cols]  \n",
    "\n",
    "y = df_clean[\"target\"]\n",
    "\n",
    "num_pipeline = Pipeline([\n",
    "    (\"imputer\", SimpleImputer(strategy=\"median\")), \n",
    "    (\"scaler\", StandardScaler())  \n",
    "])\n",
    "\n",
    "pipeline = Pipeline([\n",
    "    (\"preprocessor\", num_pipeline),\n",
    "    (\"classifier\", LogisticRegression(max_iter=500))  \n",
    "])\n",
    "\n",
    "X_train, X_test, y_train, y_test = train_test_split(X, y, test_size=0.2, random_state=42)\n",
    "\n",
    "param_grid = {\n",
    "    \"classifier__C\": [0.01, 0.1, 1, 10], \n",
    "    \"classifier__solver\": [\"liblinear\", \"lbfgs\"]  \n",
    "}\n",
    "\n",
    "grid_search = GridSearchCV(pipeline, param_grid, cv=5, scoring=\"accuracy\", n_jobs=-1)\n",
    "grid_search.fit(X_train, y_train)\n",
    "\n",
    "print(\"Best Cross-Validation Accuracy:\", grid_search.best_score_)\n"
   ]
  },
  {
   "cell_type": "markdown",
   "metadata": {},
   "source": [
    "## Submitting Logistic regression model"
   ]
  },
  {
   "cell_type": "code",
   "execution_count": null,
   "metadata": {
    "execution": {
     "iopub.execute_input": "2025-02-27T15:49:07.837308Z",
     "iopub.status.busy": "2025-02-27T15:49:07.836989Z",
     "iopub.status.idle": "2025-02-27T15:49:07.841798Z",
     "shell.execute_reply": "2025-02-27T15:49:07.840900Z",
     "shell.execute_reply.started": "2025-02-27T15:49:07.837282Z"
    },
    "trusted": true
   },
   "outputs": [],
   "source": [
    "X_train.shape"
   ]
  },
  {
   "cell_type": "code",
   "execution_count": null,
   "metadata": {
    "execution": {
     "iopub.execute_input": "2025-02-27T15:45:07.803324Z",
     "iopub.status.busy": "2025-02-27T15:45:07.803080Z",
     "iopub.status.idle": "2025-02-27T15:45:07.864898Z",
     "shell.execute_reply": "2025-02-27T15:45:07.864179Z",
     "shell.execute_reply.started": "2025-02-27T15:45:07.803308Z"
    },
    "trusted": true
   },
   "outputs": [],
   "source": [
    "X_test = pd.read_csv(\"/kaggle/input/System-Threat-Forecaster/test.csv\")"
   ]
  },
  {
   "cell_type": "code",
   "execution_count": null,
   "metadata": {
    "execution": {
     "iopub.execute_input": "2025-02-27T15:48:44.342724Z",
     "iopub.status.busy": "2025-02-27T15:48:44.342466Z",
     "iopub.status.idle": "2025-02-27T15:48:44.347759Z",
     "shell.execute_reply": "2025-02-27T15:48:44.347047Z",
     "shell.execute_reply.started": "2025-02-27T15:48:44.342706Z"
    },
    "trusted": true
   },
   "outputs": [],
   "source": [
    "X_test = X_test[numeric_cols]"
   ]
  },
  {
   "cell_type": "code",
   "execution_count": null,
   "metadata": {
    "execution": {
     "iopub.execute_input": "2025-02-27T15:49:13.137433Z",
     "iopub.status.busy": "2025-02-27T15:49:13.137159Z",
     "iopub.status.idle": "2025-02-27T15:49:13.142231Z",
     "shell.execute_reply": "2025-02-27T15:49:13.141308Z",
     "shell.execute_reply.started": "2025-02-27T15:49:13.137413Z"
    },
    "trusted": true
   },
   "outputs": [],
   "source": [
    "X_test.shape"
   ]
  },
  {
   "cell_type": "code",
   "execution_count": null,
   "metadata": {
    "execution": {
     "iopub.execute_input": "2025-02-27T15:49:14.225284Z",
     "iopub.status.busy": "2025-02-27T15:49:14.225020Z",
     "iopub.status.idle": "2025-02-27T15:49:14.237998Z",
     "shell.execute_reply": "2025-02-27T15:49:14.237208Z",
     "shell.execute_reply.started": "2025-02-27T15:49:14.225266Z"
    },
    "trusted": true
   },
   "outputs": [],
   "source": [
    "y_pred = grid_search.best_estimator_.predict(X_test)\n",
    "y_pred"
   ]
  },
  {
   "cell_type": "code",
   "execution_count": null,
   "metadata": {
    "execution": {
     "iopub.execute_input": "2025-02-27T15:49:15.361734Z",
     "iopub.status.busy": "2025-02-27T15:49:15.361495Z",
     "iopub.status.idle": "2025-02-27T15:49:15.366370Z",
     "shell.execute_reply": "2025-02-27T15:49:15.365584Z",
     "shell.execute_reply.started": "2025-02-27T15:49:15.361718Z"
    },
    "trusted": true
   },
   "outputs": [],
   "source": [
    "y_pred.shape"
   ]
  },
  {
   "cell_type": "code",
   "execution_count": null,
   "metadata": {
    "execution": {
     "iopub.execute_input": "2025-02-27T15:50:14.607290Z",
     "iopub.status.busy": "2025-02-27T15:50:14.606979Z",
     "iopub.status.idle": "2025-02-27T15:50:14.611686Z",
     "shell.execute_reply": "2025-02-27T15:50:14.610982Z",
     "shell.execute_reply.started": "2025-02-27T15:50:14.607268Z"
    },
    "trusted": true
   },
   "outputs": [],
   "source": [
    "submission = pd.DataFrame({\"id\":range(0,X_test.shape[0]),\"target\":y_pred})"
   ]
  },
  {
   "cell_type": "code",
   "execution_count": null,
   "metadata": {
    "execution": {
     "iopub.execute_input": "2025-02-27T15:50:16.220266Z",
     "iopub.status.busy": "2025-02-27T15:50:16.220008Z",
     "iopub.status.idle": "2025-02-27T15:50:16.224535Z",
     "shell.execute_reply": "2025-02-27T15:50:16.223945Z",
     "shell.execute_reply.started": "2025-02-27T15:50:16.220249Z"
    },
    "trusted": true
   },
   "outputs": [],
   "source": [
    "submission.shape"
   ]
  },
  {
   "cell_type": "code",
   "execution_count": null,
   "metadata": {
    "execution": {
     "iopub.execute_input": "2025-02-27T15:50:17.814612Z",
     "iopub.status.busy": "2025-02-27T15:50:17.814357Z",
     "iopub.status.idle": "2025-02-27T15:50:17.820913Z",
     "shell.execute_reply": "2025-02-27T15:50:17.820200Z",
     "shell.execute_reply.started": "2025-02-27T15:50:17.814595Z"
    },
    "trusted": true
   },
   "outputs": [],
   "source": [
    "submission.head()"
   ]
  },
  {
   "cell_type": "code",
   "execution_count": null,
   "metadata": {
    "execution": {
     "iopub.execute_input": "2025-02-27T15:50:20.503475Z",
     "iopub.status.busy": "2025-02-27T15:50:20.503233Z",
     "iopub.status.idle": "2025-02-27T15:50:20.512430Z",
     "shell.execute_reply": "2025-02-27T15:50:20.511813Z",
     "shell.execute_reply.started": "2025-02-27T15:50:20.503459Z"
    },
    "trusted": true
   },
   "outputs": [],
   "source": [
    "submission.to_csv('submission.csv',index = False)"
   ]
  },
  {
   "cell_type": "markdown",
   "metadata": {},
   "source": [
    "## Logistic Regression without categorical data 2"
   ]
  },
  {
   "cell_type": "code",
   "execution_count": null,
   "metadata": {
    "execution": {
     "iopub.execute_input": "2025-03-05T11:18:52.410969Z",
     "iopub.status.busy": "2025-03-05T11:18:52.410278Z",
     "iopub.status.idle": "2025-03-05T11:18:53.652955Z",
     "shell.execute_reply": "2025-03-05T11:18:53.651874Z",
     "shell.execute_reply.started": "2025-03-05T11:18:52.410927Z"
    },
    "trusted": true
   },
   "outputs": [],
   "source": [
    "import pandas as pd\n",
    "df = pd.read_csv(\"/kaggle/input/System-Threat-Forecaster/train.csv\")\n",
    "df.head()"
   ]
  },
  {
   "cell_type": "code",
   "execution_count": null,
   "metadata": {
    "execution": {
     "iopub.execute_input": "2025-03-04T16:39:38.197939Z",
     "iopub.status.busy": "2025-03-04T16:39:38.197546Z",
     "iopub.status.idle": "2025-03-04T16:39:58.694002Z",
     "shell.execute_reply": "2025-03-04T16:39:58.692503Z",
     "shell.execute_reply.started": "2025-03-04T16:39:38.197908Z"
    },
    "trusted": true
   },
   "outputs": [],
   "source": [
    "from sklearn.pipeline import Pipeline\n",
    "from sklearn.impute import SimpleImputer\n",
    "from sklearn.preprocessing import StandardScaler\n",
    "from sklearn.model_selection import train_test_split, GridSearchCV\n",
    "from sklearn.linear_model import LogisticRegression\n",
    "\n",
    "df_clean = df.drop(columns=[\"MachineID\", \"DateAS\", \"DateOS\"], errors=\"ignore\")\n",
    "\n",
    "X = df_clean.drop(columns=[\"target\"])\n",
    "\n",
    "num_cols = X.select_dtypes(include=[\"int64\", \"float64\"]).columns\n",
    "X = X[num_cols]  \n",
    "\n",
    "y = df_clean[\"target\"]\n",
    "\n",
    "num_pipeline = Pipeline([\n",
    "    (\"imputer\", SimpleImputer(strategy=\"median\")), \n",
    "    (\"scaler\", StandardScaler())  \n",
    "])\n",
    "\n",
    "pipeline = Pipeline([\n",
    "    (\"preprocessor\", num_pipeline),\n",
    "    (\"classifier\", LogisticRegression(max_iter=500))  \n",
    "])\n",
    "\n",
    "param_grid = {\n",
    "    \"classifier__C\": [0.01, 0.1, 1, 10], \n",
    "    \"classifier__solver\": [\"liblinear\", \"lbfgs\"]  \n",
    "}\n",
    "\n",
    "grid_search = GridSearchCV(pipeline, param_grid, cv=5, scoring=\"accuracy\", n_jobs=-1)\n",
    "grid_search.fit(X, y)\n",
    "\n",
    "print(\"Best Cross-Validation Accuracy:\", grid_search.best_score_)"
   ]
  },
  {
   "cell_type": "code",
   "execution_count": null,
   "metadata": {
    "execution": {
     "iopub.execute_input": "2025-03-04T16:41:05.917374Z",
     "iopub.status.busy": "2025-03-04T16:41:05.917108Z",
     "iopub.status.idle": "2025-03-04T16:41:05.997536Z",
     "shell.execute_reply": "2025-03-04T16:41:05.996891Z",
     "shell.execute_reply.started": "2025-03-04T16:41:05.917355Z"
    },
    "trusted": true
   },
   "outputs": [],
   "source": [
    "X_test = pd.read_csv(\"/kaggle/input/System-Threat-Forecaster/test.csv\")\n",
    "X_test = X_test[num_cols]\n",
    "y_pred = grid_search.best_estimator_.predict(X_test)\n",
    "y_pred"
   ]
  },
  {
   "cell_type": "code",
   "execution_count": null,
   "metadata": {
    "execution": {
     "iopub.execute_input": "2025-03-04T16:41:50.998253Z",
     "iopub.status.busy": "2025-03-04T16:41:50.997944Z",
     "iopub.status.idle": "2025-03-04T16:41:51.006843Z",
     "shell.execute_reply": "2025-03-04T16:41:51.005579Z",
     "shell.execute_reply.started": "2025-03-04T16:41:50.998228Z"
    },
    "trusted": true
   },
   "outputs": [],
   "source": [
    "submission = pd.DataFrame({\"id\":range(0,X_test.shape[0]),\"target\":y_pred})\n",
    "submission.head()"
   ]
  },
  {
   "cell_type": "code",
   "execution_count": null,
   "metadata": {
    "execution": {
     "iopub.execute_input": "2025-03-04T16:42:04.804547Z",
     "iopub.status.busy": "2025-03-04T16:42:04.804259Z",
     "iopub.status.idle": "2025-03-04T16:42:04.816575Z",
     "shell.execute_reply": "2025-03-04T16:42:04.815963Z",
     "shell.execute_reply.started": "2025-03-04T16:42:04.804524Z"
    },
    "trusted": true
   },
   "outputs": [],
   "source": [
    "submission.to_csv('submission.csv',index = False)"
   ]
  },
  {
   "cell_type": "markdown",
   "metadata": {},
   "source": [
    "## Logistic Regression using categorical data with encoding"
   ]
  },
  {
   "cell_type": "code",
   "execution_count": null,
   "metadata": {
    "execution": {
     "iopub.execute_input": "2025-03-05T13:08:39.542868Z",
     "iopub.status.busy": "2025-03-05T13:08:39.542337Z",
     "iopub.status.idle": "2025-03-05T13:08:41.076248Z",
     "shell.execute_reply": "2025-03-05T13:08:41.075054Z",
     "shell.execute_reply.started": "2025-03-05T13:08:39.542834Z"
    },
    "trusted": true
   },
   "outputs": [],
   "source": [
    "# import pandas as pd\n",
    "# df = pd.read_csv(\"/kaggle/input/System-Threat-Forecaster/train.csv\")\n",
    "# df.head()"
   ]
  },
  {
   "cell_type": "code",
   "execution_count": null,
   "metadata": {
    "execution": {
     "iopub.execute_input": "2025-03-05T13:08:47.551293Z",
     "iopub.status.busy": "2025-03-05T13:08:47.550938Z",
     "iopub.status.idle": "2025-03-05T13:08:47.583947Z",
     "shell.execute_reply": "2025-03-05T13:08:47.582979Z",
     "shell.execute_reply.started": "2025-03-05T13:08:47.551263Z"
    },
    "trusted": true
   },
   "outputs": [],
   "source": [
    "# X_train = df.drop(columns = ['target'])\n",
    "# y_train = df['target']"
   ]
  },
  {
   "cell_type": "code",
   "execution_count": null,
   "metadata": {
    "execution": {
     "iopub.execute_input": "2025-03-05T13:08:59.378508Z",
     "iopub.status.busy": "2025-03-05T13:08:59.378112Z",
     "iopub.status.idle": "2025-03-05T13:08:59.402578Z",
     "shell.execute_reply": "2025-03-05T13:08:59.401631Z",
     "shell.execute_reply.started": "2025-03-05T13:08:59.378450Z"
    },
    "trusted": true
   },
   "outputs": [],
   "source": [
    "# X_train.head()"
   ]
  },
  {
   "cell_type": "code",
   "execution_count": null,
   "metadata": {
    "execution": {
     "iopub.execute_input": "2025-03-05T13:09:12.197385Z",
     "iopub.status.busy": "2025-03-05T13:09:12.197048Z",
     "iopub.status.idle": "2025-03-05T13:09:12.313835Z",
     "shell.execute_reply": "2025-03-05T13:09:12.312340Z",
     "shell.execute_reply.started": "2025-03-05T13:09:12.197361Z"
    },
    "trusted": true
   },
   "outputs": [],
   "source": [
    "# X_test = pd.read_csv(\"/kaggle/input/System-Threat-Forecaster/test.csv\")"
   ]
  },
  {
   "cell_type": "code",
   "execution_count": null,
   "metadata": {
    "execution": {
     "iopub.execute_input": "2025-03-05T13:09:19.428059Z",
     "iopub.status.busy": "2025-03-05T13:09:19.427657Z",
     "iopub.status.idle": "2025-03-05T13:09:19.451502Z",
     "shell.execute_reply": "2025-03-05T13:09:19.450463Z",
     "shell.execute_reply.started": "2025-03-05T13:09:19.428028Z"
    },
    "trusted": true
   },
   "outputs": [],
   "source": [
    "# X_test.head()"
   ]
  },
  {
   "cell_type": "code",
   "execution_count": null,
   "metadata": {
    "execution": {
     "iopub.execute_input": "2025-03-05T13:09:43.323348Z",
     "iopub.status.busy": "2025-03-05T13:09:43.323006Z",
     "iopub.status.idle": "2025-03-05T13:09:43.328749Z",
     "shell.execute_reply": "2025-03-05T13:09:43.327329Z",
     "shell.execute_reply.started": "2025-03-05T13:09:43.323324Z"
    },
    "trusted": true
   },
   "outputs": [],
   "source": [
    "# from sklearn.pipeline import Pipeline\n",
    "# from sklearn.impute import SimpleImputer\n",
    "# from sklearn.feature_selection import VarianceThreshold\n",
    "# from sklearn.linear_model import LogisticRegression\n",
    "# from sklearn.model_selection import GridSearchCV\n",
    "# from sklearn.compose import ColumnTransformer"
   ]
  },
  {
   "cell_type": "code",
   "execution_count": null,
   "metadata": {
    "execution": {
     "iopub.execute_input": "2025-03-05T13:10:25.228865Z",
     "iopub.status.busy": "2025-03-05T13:10:25.228411Z",
     "iopub.status.idle": "2025-03-05T13:10:25.266002Z",
     "shell.execute_reply": "2025-03-05T13:10:25.264703Z",
     "shell.execute_reply.started": "2025-03-05T13:10:25.228834Z"
    },
    "trusted": true
   },
   "outputs": [],
   "source": [
    "# categorical_columns = X_train.select_dtypes(include=['object']).columns\n",
    "# numerical_columns = X_train.select_dtypes(exclude=['object']).columns"
   ]
  },
  {
   "cell_type": "code",
   "execution_count": null,
   "metadata": {
    "execution": {
     "iopub.execute_input": "2025-03-05T13:10:27.651452Z",
     "iopub.status.busy": "2025-03-05T13:10:27.651066Z",
     "iopub.status.idle": "2025-03-05T13:10:27.657258Z",
     "shell.execute_reply": "2025-03-05T13:10:27.655788Z",
     "shell.execute_reply.started": "2025-03-05T13:10:27.651420Z"
    },
    "trusted": true
   },
   "outputs": [],
   "source": [
    "# preprocessor = ColumnTransformer([\n",
    "#         ('num', Pipeline([\n",
    "#             ('imputer', SimpleImputer(strategy='mean')),  \n",
    "#             ('variance_threshold', VarianceThreshold(threshold=0.01)) \n",
    "#         ]), numerical_columns),\n",
    "#         ('cat', Pipeline([\n",
    "#             ('imputer', SimpleImputer(strategy='most_frequent')),  \n",
    "#             ('onehot', OneHotEncoder(handle_unknown='ignore'))  \n",
    "#         ]), categorical_columns)\n",
    "# ])"
   ]
  },
  {
   "cell_type": "code",
   "execution_count": null,
   "metadata": {
    "execution": {
     "iopub.execute_input": "2025-03-05T13:10:30.186523Z",
     "iopub.status.busy": "2025-03-05T13:10:30.186136Z",
     "iopub.status.idle": "2025-03-05T13:10:30.191426Z",
     "shell.execute_reply": "2025-03-05T13:10:30.190239Z",
     "shell.execute_reply.started": "2025-03-05T13:10:30.186495Z"
    },
    "trusted": true
   },
   "outputs": [],
   "source": [
    "# pipeline = Pipeline([\n",
    "#     ('preprocessor', preprocessor),  # Apply preprocessor\n",
    "#     ('log_reg', LogisticRegression(max_iter=1000, random_state=42))  # Logistic Regression model\n",
    "# ])"
   ]
  },
  {
   "cell_type": "code",
   "execution_count": null,
   "metadata": {
    "execution": {
     "iopub.execute_input": "2025-03-05T13:10:33.012705Z",
     "iopub.status.busy": "2025-03-05T13:10:33.012283Z",
     "iopub.status.idle": "2025-03-05T13:12:22.248959Z",
     "shell.execute_reply": "2025-03-05T13:12:22.247526Z",
     "shell.execute_reply.started": "2025-03-05T13:10:33.012673Z"
    },
    "trusted": true
   },
   "outputs": [],
   "source": [
    "# param_grid = {\n",
    "#     'log_reg__C': [0.01, 0.1, 1, 10],\n",
    "#     'log_reg__solver': ['lbfgs', 'liblinear'],\n",
    "#     'log_reg__penalty': ['l2'],\n",
    "#     'log_reg__max_iter': [100, 200, 300]\n",
    "# }\n",
    "\n",
    "# grid_search = GridSearchCV(estimator=pipeline, param_grid=param_grid, cv=3, n_jobs=-1)\n",
    "# grid_search.fit(X_train, y_train)"
   ]
  },
  {
   "cell_type": "code",
   "execution_count": null,
   "metadata": {
    "execution": {
     "iopub.execute_input": "2025-03-05T13:12:28.704921Z",
     "iopub.status.busy": "2025-03-05T13:12:28.704511Z",
     "iopub.status.idle": "2025-03-05T13:12:29.052202Z",
     "shell.execute_reply": "2025-03-05T13:12:29.050705Z",
     "shell.execute_reply.started": "2025-03-05T13:12:28.704886Z"
    },
    "trusted": true
   },
   "outputs": [],
   "source": [
    "# y_pred = grid_search.best_estimator_.predict(X_test)"
   ]
  },
  {
   "cell_type": "code",
   "execution_count": null,
   "metadata": {
    "execution": {
     "iopub.execute_input": "2025-03-05T13:13:30.298945Z",
     "iopub.status.busy": "2025-03-05T13:13:30.298551Z",
     "iopub.status.idle": "2025-03-05T13:13:30.305348Z",
     "shell.execute_reply": "2025-03-05T13:13:30.303937Z",
     "shell.execute_reply.started": "2025-03-05T13:13:30.298918Z"
    },
    "trusted": true
   },
   "outputs": [],
   "source": [
    "# submission = pd.DataFrame({\"id\":range(0,X_test.shape[0]),\"target\":y_pred})"
   ]
  },
  {
   "cell_type": "code",
   "execution_count": null,
   "metadata": {
    "execution": {
     "iopub.execute_input": "2025-03-05T13:13:37.503677Z",
     "iopub.status.busy": "2025-03-05T13:13:37.503260Z",
     "iopub.status.idle": "2025-03-05T13:13:37.524117Z",
     "shell.execute_reply": "2025-03-05T13:13:37.522886Z",
     "shell.execute_reply.started": "2025-03-05T13:13:37.503647Z"
    },
    "trusted": true
   },
   "outputs": [],
   "source": [
    "# submission.to_csv('submission.csv',index = False)"
   ]
  },
  {
   "cell_type": "markdown",
   "metadata": {},
   "source": [
    "## Random Forest Classifier with Grid Search"
   ]
  },
  {
   "cell_type": "code",
   "execution_count": null,
   "metadata": {
    "execution": {
     "iopub.execute_input": "2025-03-05T16:33:36.844700Z",
     "iopub.status.busy": "2025-03-05T16:33:36.844308Z",
     "iopub.status.idle": "2025-03-05T16:33:37.957475Z",
     "shell.execute_reply": "2025-03-05T16:33:37.956045Z",
     "shell.execute_reply.started": "2025-03-05T16:33:36.844667Z"
    },
    "trusted": true
   },
   "outputs": [],
   "source": [
    "# from sklearn.ensemble import RandomForestClassifier\n",
    "# from sklearn.preprocessing import StandardScaler , OneHotEncoder\n",
    "# from sklearn.compose import ColumnTransformer\n",
    "# from sklearn.impute import SimpleImputer\n",
    "# from sklearn.pipeline import Pipeline\n",
    "# from sklearn.model_selection import GridSearchCV"
   ]
  },
  {
   "cell_type": "code",
   "execution_count": null,
   "metadata": {
    "execution": {
     "iopub.execute_input": "2025-03-05T16:34:15.303387Z",
     "iopub.status.busy": "2025-03-05T16:34:15.302996Z",
     "iopub.status.idle": "2025-03-05T16:34:15.334272Z",
     "shell.execute_reply": "2025-03-05T16:34:15.333018Z",
     "shell.execute_reply.started": "2025-03-05T16:34:15.303357Z"
    },
    "trusted": true
   },
   "outputs": [],
   "source": [
    "# X_train = df.drop(columns = ['target'])\n",
    "# y_train = df['target']"
   ]
  },
  {
   "cell_type": "code",
   "execution_count": null,
   "metadata": {
    "execution": {
     "iopub.execute_input": "2025-03-05T16:34:27.484601Z",
     "iopub.status.busy": "2025-03-05T16:34:27.484135Z",
     "iopub.status.idle": "2025-03-05T16:34:27.674324Z",
     "shell.execute_reply": "2025-03-05T16:34:27.673182Z",
     "shell.execute_reply.started": "2025-03-05T16:34:27.484566Z"
    },
    "trusted": true
   },
   "outputs": [],
   "source": [
    "# X_test = pd.read_csv(\"/kaggle/input/System-Threat-Forecaster/test.csv\")"
   ]
  },
  {
   "cell_type": "code",
   "execution_count": null,
   "metadata": {
    "execution": {
     "iopub.execute_input": "2025-03-05T16:34:29.223962Z",
     "iopub.status.busy": "2025-03-05T16:34:29.223596Z",
     "iopub.status.idle": "2025-03-05T16:34:29.256230Z",
     "shell.execute_reply": "2025-03-05T16:34:29.255123Z",
     "shell.execute_reply.started": "2025-03-05T16:34:29.223935Z"
    },
    "trusted": true
   },
   "outputs": [],
   "source": [
    "# categorical_cols = X_train.select_dtypes(include=['object']).columns\n",
    "# numerical_cols = X_train.select_dtypes(exclude=['object']).columns"
   ]
  },
  {
   "cell_type": "code",
   "execution_count": null,
   "metadata": {
    "execution": {
     "iopub.execute_input": "2025-03-05T16:34:30.710839Z",
     "iopub.status.busy": "2025-03-05T16:34:30.710394Z",
     "iopub.status.idle": "2025-03-05T16:34:30.716429Z",
     "shell.execute_reply": "2025-03-05T16:34:30.715073Z",
     "shell.execute_reply.started": "2025-03-05T16:34:30.710808Z"
    },
    "trusted": true
   },
   "outputs": [],
   "source": [
    "# preprocessor = ColumnTransformer(\n",
    "#     transformers=[\n",
    "#         ('num', Pipeline([\n",
    "#             ('imputer', SimpleImputer(strategy='mean')),\n",
    "#             ('scaler', StandardScaler())                \n",
    "#         ]), numerical_cols),\n",
    "#         ('cat', Pipeline([\n",
    "#             ('imputer', SimpleImputer(strategy='most_frequent')),\n",
    "#             ('onehot', OneHotEncoder(handle_unknown='ignore'))   \n",
    "#         ]), categorical_cols)\n",
    "# ])"
   ]
  },
  {
   "cell_type": "code",
   "execution_count": null,
   "metadata": {
    "execution": {
     "iopub.execute_input": "2025-03-05T16:34:32.501918Z",
     "iopub.status.busy": "2025-03-05T16:34:32.501524Z",
     "iopub.status.idle": "2025-03-05T16:34:32.506586Z",
     "shell.execute_reply": "2025-03-05T16:34:32.505572Z",
     "shell.execute_reply.started": "2025-03-05T16:34:32.501889Z"
    },
    "trusted": true
   },
   "outputs": [],
   "source": [
    "# rf_pipeline = Pipeline([\n",
    "#     ('preprocessor', preprocessor),\n",
    "#     ('classifier', RandomForestClassifier(n_estimators=100, random_state=42))\n",
    "# ])"
   ]
  },
  {
   "cell_type": "code",
   "execution_count": null,
   "metadata": {
    "execution": {
     "iopub.execute_input": "2025-03-05T16:34:34.888275Z",
     "iopub.status.busy": "2025-03-05T16:34:34.887930Z",
     "iopub.status.idle": "2025-03-05T16:34:34.894050Z",
     "shell.execute_reply": "2025-03-05T16:34:34.892744Z",
     "shell.execute_reply.started": "2025-03-05T16:34:34.888250Z"
    },
    "trusted": true
   },
   "outputs": [],
   "source": [
    "# param_grid = {\n",
    "#     'classifier__n_estimators': [100, 200, 300],            \n",
    "#     'classifier__max_depth': [None, 10, 20, 30],            \n",
    "#     'classifier__min_samples_split': [2, 5, 10],            \n",
    "#     'classifier__min_samples_leaf': [1, 2, 4],               \n",
    "#     'classifier__max_features': ['sqrt', 'log2'],    \n",
    "#     'classifier__class_weight': [None, 'balanced']           \n",
    "# }\n",
    "\n",
    "# grid_search = GridSearchCV(rf_pipeline, param_grid, cv=5, n_jobs=-1, verbose=2)"
   ]
  },
  {
   "cell_type": "code",
   "execution_count": null,
   "metadata": {
    "trusted": true
   },
   "outputs": [],
   "source": [
    "# grid_search.fit(X_train,y_train)"
   ]
  },
  {
   "cell_type": "code",
   "execution_count": null,
   "metadata": {
    "trusted": true
   },
   "outputs": [],
   "source": [
    "# y_pred = grid_search.best_estimator_.predict(X_test)"
   ]
  },
  {
   "cell_type": "code",
   "execution_count": null,
   "metadata": {
    "trusted": true
   },
   "outputs": [],
   "source": [
    "# submission = pd.DataFrame({\"id\":range(0,X_test.shape[0]),\"target\":y_pred})"
   ]
  },
  {
   "cell_type": "code",
   "execution_count": null,
   "metadata": {
    "trusted": true
   },
   "outputs": [],
   "source": [
    "# submission.to_csv('submission.csv',index = False)"
   ]
  },
  {
   "cell_type": "markdown",
   "metadata": {},
   "source": [
    "## Random Forest Classifier"
   ]
  },
  {
   "cell_type": "code",
   "execution_count": null,
   "metadata": {
    "execution": {
     "iopub.execute_input": "2025-03-09T03:42:12.566784Z",
     "iopub.status.busy": "2025-03-09T03:42:12.566419Z",
     "iopub.status.idle": "2025-03-09T03:42:12.571158Z",
     "shell.execute_reply": "2025-03-09T03:42:12.570007Z",
     "shell.execute_reply.started": "2025-03-09T03:42:12.566753Z"
    },
    "trusted": true
   },
   "outputs": [],
   "source": [
    "from sklearn.ensemble import RandomForestClassifier\n",
    "from sklearn.preprocessing import OrdinalEncoder\n",
    "from sklearn.impute import SimpleImputer\n",
    "from sklearn.pipeline import Pipeline\n",
    "from sklearn.compose import ColumnTransformer"
   ]
  },
  {
   "cell_type": "code",
   "execution_count": null,
   "metadata": {
    "execution": {
     "iopub.execute_input": "2025-03-09T03:43:33.011360Z",
     "iopub.status.busy": "2025-03-09T03:43:33.011035Z",
     "iopub.status.idle": "2025-03-09T03:43:35.329132Z",
     "shell.execute_reply": "2025-03-09T03:43:35.328026Z",
     "shell.execute_reply.started": "2025-03-09T03:43:33.011333Z"
    },
    "trusted": true
   },
   "outputs": [],
   "source": [
    "import pandas as pd\n",
    "df = pd.read_csv(\"/kaggle/input/System-Threat-Forecaster/train.csv\")\n",
    "X_train = df.drop(columns = [\"target\"])\n",
    "y_train = df[\"target\"]\n",
    "X_test = pd.read_csv(\"/kaggle/input/System-Threat-Forecaster/test.csv\")"
   ]
  },
  {
   "cell_type": "code",
   "execution_count": null,
   "metadata": {
    "execution": {
     "iopub.execute_input": "2025-03-09T03:43:38.944395Z",
     "iopub.status.busy": "2025-03-09T03:43:38.944031Z",
     "iopub.status.idle": "2025-03-09T03:43:38.975150Z",
     "shell.execute_reply": "2025-03-09T03:43:38.974073Z",
     "shell.execute_reply.started": "2025-03-09T03:43:38.944364Z"
    },
    "trusted": true
   },
   "outputs": [],
   "source": [
    "cat_features = X_train.select_dtypes(include=[\"object\"]).columns\n",
    "num_features = X_train.select_dtypes(exclude=[\"object\"]).columns"
   ]
  },
  {
   "cell_type": "code",
   "execution_count": null,
   "metadata": {
    "execution": {
     "iopub.execute_input": "2025-03-09T03:43:40.099436Z",
     "iopub.status.busy": "2025-03-09T03:43:40.099085Z",
     "iopub.status.idle": "2025-03-09T03:43:40.104167Z",
     "shell.execute_reply": "2025-03-09T03:43:40.102981Z",
     "shell.execute_reply.started": "2025-03-09T03:43:40.099406Z"
    },
    "trusted": true
   },
   "outputs": [],
   "source": [
    "cat_pipeline = Pipeline([\n",
    "    (\"imputer\", SimpleImputer(strategy=\"most_frequent\")),\n",
    "    (\"encoder\", OrdinalEncoder(handle_unknown=\"use_encoded_value\", unknown_value=-1))\n",
    "])\n",
    "\n",
    "num_pipeline = Pipeline([\n",
    "    (\"imputer\", SimpleImputer(strategy=\"mean\"))\n",
    "])"
   ]
  },
  {
   "cell_type": "code",
   "execution_count": null,
   "metadata": {
    "execution": {
     "iopub.execute_input": "2025-03-09T03:43:41.427841Z",
     "iopub.status.busy": "2025-03-09T03:43:41.427453Z",
     "iopub.status.idle": "2025-03-09T03:43:41.432123Z",
     "shell.execute_reply": "2025-03-09T03:43:41.430878Z",
     "shell.execute_reply.started": "2025-03-09T03:43:41.427811Z"
    },
    "trusted": true
   },
   "outputs": [],
   "source": [
    "preprocessor = ColumnTransformer([\n",
    "    (\"num\", num_pipeline, num_features),\n",
    "    (\"cat\", cat_pipeline, cat_features)\n",
    "])"
   ]
  },
  {
   "cell_type": "code",
   "execution_count": null,
   "metadata": {
    "execution": {
     "iopub.execute_input": "2025-03-09T03:43:42.243627Z",
     "iopub.status.busy": "2025-03-09T03:43:42.243250Z",
     "iopub.status.idle": "2025-03-09T03:43:42.247928Z",
     "shell.execute_reply": "2025-03-09T03:43:42.246787Z",
     "shell.execute_reply.started": "2025-03-09T03:43:42.243566Z"
    },
    "trusted": true
   },
   "outputs": [],
   "source": [
    "rf_pipeline = Pipeline([\n",
    "    (\"preprocessor\", preprocessor),\n",
    "    (\"classifier\", RandomForestClassifier(n_estimators=100, random_state=42))\n",
    "])\n"
   ]
  },
  {
   "cell_type": "code",
   "execution_count": null,
   "metadata": {
    "execution": {
     "iopub.execute_input": "2025-03-09T03:43:53.962756Z",
     "iopub.status.busy": "2025-03-09T03:43:53.962398Z",
     "iopub.status.idle": "2025-03-09T03:44:31.950713Z",
     "shell.execute_reply": "2025-03-09T03:44:31.949723Z",
     "shell.execute_reply.started": "2025-03-09T03:43:53.962729Z"
    },
    "trusted": true
   },
   "outputs": [],
   "source": [
    "rf_pipeline.fit(X_train, y_train)"
   ]
  },
  {
   "cell_type": "code",
   "execution_count": null,
   "metadata": {
    "execution": {
     "iopub.execute_input": "2025-03-09T03:44:59.404283Z",
     "iopub.status.busy": "2025-03-09T03:44:59.403971Z",
     "iopub.status.idle": "2025-03-09T03:45:00.068703Z",
     "shell.execute_reply": "2025-03-09T03:45:00.067702Z",
     "shell.execute_reply.started": "2025-03-09T03:44:59.404260Z"
    },
    "trusted": true
   },
   "outputs": [],
   "source": [
    "y_pred = rf_pipeline.predict(X_test)"
   ]
  },
  {
   "cell_type": "code",
   "execution_count": null,
   "metadata": {
    "execution": {
     "iopub.execute_input": "2025-03-09T03:45:01.509092Z",
     "iopub.status.busy": "2025-03-09T03:45:01.508744Z",
     "iopub.status.idle": "2025-03-09T03:45:01.514217Z",
     "shell.execute_reply": "2025-03-09T03:45:01.513242Z",
     "shell.execute_reply.started": "2025-03-09T03:45:01.509062Z"
    },
    "trusted": true
   },
   "outputs": [],
   "source": [
    "submission = pd.DataFrame({\"id\":range(0,X_test.shape[0]),\"target\":y_pred})"
   ]
  },
  {
   "cell_type": "code",
   "execution_count": null,
   "metadata": {
    "execution": {
     "iopub.execute_input": "2025-03-09T03:45:46.351471Z",
     "iopub.status.busy": "2025-03-09T03:45:46.351136Z",
     "iopub.status.idle": "2025-03-09T03:45:46.368486Z",
     "shell.execute_reply": "2025-03-09T03:45:46.367426Z",
     "shell.execute_reply.started": "2025-03-09T03:45:46.351445Z"
    },
    "trusted": true
   },
   "outputs": [],
   "source": [
    "submission.to_csv('submission.csv',index = False)"
   ]
  },
  {
   "cell_type": "markdown",
   "metadata": {},
   "source": [
    "## Trying a basic XGBoost Model"
   ]
  },
  {
   "cell_type": "code",
   "execution_count": null,
   "metadata": {
    "execution": {
     "iopub.execute_input": "2025-03-08T13:16:04.534964Z",
     "iopub.status.busy": "2025-03-08T13:16:04.534575Z",
     "iopub.status.idle": "2025-03-08T13:16:27.452617Z",
     "shell.execute_reply": "2025-03-08T13:16:27.451795Z",
     "shell.execute_reply.started": "2025-03-08T13:16:04.534925Z"
    },
    "trusted": true
   },
   "outputs": [],
   "source": [
    "# import pandas as pd\n",
    "# import xgboost as xgb\n",
    "\n",
    "# df = pd.read_csv(\"/kaggle/input/System-Threat-Forecaster/train.csv\")\n",
    "\n",
    "# X_train = df.drop(columns = [\"target\"])\n",
    "# X_train[X_train.select_dtypes('object').columns] = X_train.select_dtypes('object').astype('category')\n",
    "\n",
    "# y_train = df[\"target\"]\n",
    "\n",
    "# X_test = pd.read_csv(\"/kaggle/input/System-Threat-Forecaster/test.csv\")\n",
    "\n",
    "# model = xgb.XGBClassifier(n_estimators=100, learning_rate=0.1, max_depth=6, random_state=42 , enable_categorical = True)\n",
    "# model.fit(X_train, y_train)\n",
    "# X_test[X_test.select_dtypes('object').columns] = X_test.select_dtypes('object').astype('category')\n",
    "# y_pred = model.predict(X_test)"
   ]
  },
  {
   "cell_type": "code",
   "execution_count": null,
   "metadata": {
    "execution": {
     "iopub.execute_input": "2025-03-08T11:21:29.990617Z",
     "iopub.status.busy": "2025-03-08T11:21:29.990148Z",
     "iopub.status.idle": "2025-03-08T11:21:30.006262Z",
     "shell.execute_reply": "2025-03-08T11:21:30.004838Z",
     "shell.execute_reply.started": "2025-03-08T11:21:29.990581Z"
    },
    "trusted": true
   },
   "outputs": [],
   "source": [
    "# submission = pd.DataFrame({\"id\":range(0,X_test.shape[0]),\"target\":y_pred})\n",
    "# submission.to_csv(\"/kaggle/working/submission.csv\", index=False)"
   ]
  },
  {
   "cell_type": "code",
   "execution_count": null,
   "metadata": {
    "execution": {
     "iopub.execute_input": "2025-03-08T11:23:58.586680Z",
     "iopub.status.busy": "2025-03-08T11:23:58.586267Z",
     "iopub.status.idle": "2025-03-08T11:23:58.595858Z",
     "shell.execute_reply": "2025-03-08T11:23:58.594746Z",
     "shell.execute_reply.started": "2025-03-08T11:23:58.586634Z"
    },
    "trusted": true
   },
   "outputs": [],
   "source": [
    "# submission.head()"
   ]
  },
  {
   "cell_type": "markdown",
   "metadata": {},
   "source": [
    "## XGBoost Last model"
   ]
  },
  {
   "cell_type": "code",
   "execution_count": null,
   "metadata": {
    "execution": {
     "iopub.execute_input": "2025-03-09T03:49:32.685005Z",
     "iopub.status.busy": "2025-03-09T03:49:32.684590Z",
     "iopub.status.idle": "2025-03-09T03:49:32.939299Z",
     "shell.execute_reply": "2025-03-09T03:49:32.938475Z",
     "shell.execute_reply.started": "2025-03-09T03:49:32.684976Z"
    },
    "trusted": true
   },
   "outputs": [],
   "source": [
    "import numpy as np\n",
    "import pandas as pd\n",
    "from sklearn.impute import SimpleImputer\n",
    "from sklearn.preprocessing import OrdinalEncoder, MinMaxScaler\n",
    "from sklearn.compose import ColumnTransformer\n",
    "from sklearn.pipeline import Pipeline\n",
    "from sklearn.model_selection import train_test_split\n",
    "from sklearn.metrics import accuracy_score\n",
    "from xgboost import XGBClassifier\n",
    "from sklearn.preprocessing import FunctionTransformer"
   ]
  },
  {
   "cell_type": "code",
   "execution_count": null,
   "metadata": {
    "execution": {
     "iopub.execute_input": "2025-03-09T03:49:34.360089Z",
     "iopub.status.busy": "2025-03-09T03:49:34.359734Z",
     "iopub.status.idle": "2025-03-09T03:49:35.763897Z",
     "shell.execute_reply": "2025-03-09T03:49:35.762969Z",
     "shell.execute_reply.started": "2025-03-09T03:49:34.360059Z"
    },
    "trusted": true
   },
   "outputs": [],
   "source": [
    "df = pd.read_csv(\"/kaggle/input/System-Threat-Forecaster/train.csv\")\n",
    "X_train = df.drop(columns = [\"target\"])\n",
    "y_train = df[\"target\"]\n",
    "X_test = pd.read_csv(\"/kaggle/input/System-Threat-Forecaster/test.csv\")"
   ]
  },
  {
   "cell_type": "code",
   "execution_count": null,
   "metadata": {
    "execution": {
     "iopub.execute_input": "2025-03-09T03:49:39.359814Z",
     "iopub.status.busy": "2025-03-09T03:49:39.359445Z",
     "iopub.status.idle": "2025-03-09T03:49:39.393495Z",
     "shell.execute_reply": "2025-03-09T03:49:39.392670Z",
     "shell.execute_reply.started": "2025-03-09T03:49:39.359782Z"
    },
    "trusted": true
   },
   "outputs": [],
   "source": [
    "columns_to_drop = ['MachineID', 'DateAS', 'DateOS']\n",
    "X_train.drop(columns=columns_to_drop, inplace=True, errors='ignore')\n",
    "X_test.drop(columns=columns_to_drop, inplace=True, errors='ignore')"
   ]
  },
  {
   "cell_type": "code",
   "execution_count": null,
   "metadata": {
    "execution": {
     "iopub.execute_input": "2025-03-09T03:49:55.300177Z",
     "iopub.status.busy": "2025-03-09T03:49:55.299841Z",
     "iopub.status.idle": "2025-03-09T03:49:55.305993Z",
     "shell.execute_reply": "2025-03-09T03:49:55.304810Z",
     "shell.execute_reply.started": "2025-03-09T03:49:55.300147Z"
    },
    "trusted": true
   },
   "outputs": [],
   "source": [
    "num_cols = [\n",
    "    'IsBetaUser', 'RealTimeProtectionState', 'IsPassiveModeEnabled', 'AntivirusConfigID',\n",
    "    'NumAntivirusProductsInstalled', 'NumAntivirusProductsEnabled', 'HasTpm', 'CountryID', 'CityID', 'GeoRegionID',\n",
    "    'LocaleEnglishNameID', 'OSBuildNumber', 'OSProductSuite', 'IsSystemProtected', 'AutoSampleSubmissionEnabled',\n",
    "    'SMode', 'IEVersionID', 'FirewallEnabled', 'EnableLUA', 'OEMNameID', 'OEMModelID', 'ProcessorCoreCount',\n",
    "    'ProcessorManufacturerID', 'ProcessorModelID', 'PrimaryDiskCapacityMB', 'SystemVolumeCapacityMB',\n",
    "    'HasOpticalDiskDrive', 'TotalPhysicalRAMMB', 'PrimaryDisplayDiagonalInches', 'PrimaryDisplayResolutionHorizontal',\n",
    "    'PrimaryDisplayResolutionVertical', 'InternalBatteryNumberOfCharges', 'OSBuildNumberOnly', 'OSBuildRevisionOnly',\n",
    "    'OSInstallLanguageID', 'OSUILocaleID', 'IsPortableOS', 'IsFlightsDisabled', 'FirmwareManufacturerID',\n",
    "    'FirmwareVersionID', 'IsSecureBootEnabled', 'IsVirtualDevice', 'IsTouchEnabled', 'IsPenCapable',\n",
    "    'IsAlwaysOnAlwaysConnectedCapable', 'IsGamer', 'RegionIdentifier'\n",
    "]\n",
    "cat_cols = [\n",
    "    'ProductName', 'EngineVersion', 'AppVersion', 'SignatureVersion', 'PlatformType', 'Processor', 'OSVersion',\n",
    "    'OsPlatformSubRelease', 'OSBuildLab', 'SKUEditionName', 'MDC2FormFactor', 'DeviceFamily', 'PrimaryDiskType',\n",
    "    'ChassisType', 'PowerPlatformRole', 'NumericOSVersion', 'OSArchitecture', 'OSBranch', 'OSEdition',\n",
    "    'OSSkuFriendlyName', 'OSInstallType', 'AutoUpdateOptionsName', 'OSGenuineState', 'LicenseActivationChannel',\n",
    "    'FlightRing'\n",
    "]"
   ]
  },
  {
   "cell_type": "code",
   "execution_count": null,
   "metadata": {
    "execution": {
     "iopub.execute_input": "2025-03-09T03:50:17.080041Z",
     "iopub.status.busy": "2025-03-09T03:50:17.079711Z",
     "iopub.status.idle": "2025-03-09T03:50:17.085795Z",
     "shell.execute_reply": "2025-03-09T03:50:17.084726Z",
     "shell.execute_reply.started": "2025-03-09T03:50:17.080014Z"
    },
    "trusted": true
   },
   "outputs": [],
   "source": [
    "def cap_outliers(X, factor=1.5):\n",
    "    X_capped = X.copy()\n",
    "    for col_idx in range(X.shape[1]):  # Iterate over all columns\n",
    "        col = X[:, col_idx]\n",
    "        Q1 = np.quantile(col, 0.25)\n",
    "        Q3 = np.quantile(col, 0.75)\n",
    "        IQR = Q3 - Q1\n",
    "        lower_bound = Q1 - factor * IQR\n",
    "        upper_bound = Q3 + factor * IQR\n",
    "        X_capped[:, col_idx] = np.clip(col, lower_bound, upper_bound)\n",
    "    return X_capped"
   ]
  },
  {
   "cell_type": "code",
   "execution_count": null,
   "metadata": {
    "execution": {
     "iopub.execute_input": "2025-03-09T03:50:18.869942Z",
     "iopub.status.busy": "2025-03-09T03:50:18.869568Z",
     "iopub.status.idle": "2025-03-09T03:50:18.874333Z",
     "shell.execute_reply": "2025-03-09T03:50:18.873425Z",
     "shell.execute_reply.started": "2025-03-09T03:50:18.869913Z"
    },
    "trusted": true
   },
   "outputs": [],
   "source": [
    "num_pipeline = Pipeline([\n",
    "    ('imputer', SimpleImputer(strategy='median')),\n",
    "    ('outlier_capper', FunctionTransformer(\n",
    "        cap_outliers, \n",
    "        kw_args={'factor': 1.5}\n",
    "    )),  \n",
    "    ('scaler', MinMaxScaler())  \n",
    "])"
   ]
  },
  {
   "cell_type": "code",
   "execution_count": null,
   "metadata": {
    "execution": {
     "iopub.execute_input": "2025-03-09T03:50:19.919482Z",
     "iopub.status.busy": "2025-03-09T03:50:19.919132Z",
     "iopub.status.idle": "2025-03-09T03:50:19.923831Z",
     "shell.execute_reply": "2025-03-09T03:50:19.922725Z",
     "shell.execute_reply.started": "2025-03-09T03:50:19.919450Z"
    },
    "trusted": true
   },
   "outputs": [],
   "source": [
    "cat_pipeline = Pipeline([\n",
    "    ('imputer', SimpleImputer(strategy='most_frequent')),  \n",
    "    ('encoder', OrdinalEncoder(\n",
    "        handle_unknown='use_encoded_value',  \n",
    "        unknown_value=-1  \n",
    "    ))\n",
    "])"
   ]
  },
  {
   "cell_type": "code",
   "execution_count": null,
   "metadata": {
    "execution": {
     "iopub.execute_input": "2025-03-09T03:50:21.399567Z",
     "iopub.status.busy": "2025-03-09T03:50:21.399236Z",
     "iopub.status.idle": "2025-03-09T03:50:21.403611Z",
     "shell.execute_reply": "2025-03-09T03:50:21.402698Z",
     "shell.execute_reply.started": "2025-03-09T03:50:21.399529Z"
    },
    "trusted": true
   },
   "outputs": [],
   "source": [
    "preprocessor = ColumnTransformer([\n",
    "    ('num', num_pipeline, num_cols),\n",
    "    ('cat', cat_pipeline, cat_cols)\n",
    "])"
   ]
  },
  {
   "cell_type": "code",
   "execution_count": null,
   "metadata": {
    "execution": {
     "iopub.execute_input": "2025-03-09T03:50:31.185078Z",
     "iopub.status.busy": "2025-03-09T03:50:31.184749Z",
     "iopub.status.idle": "2025-03-09T03:50:33.205080Z",
     "shell.execute_reply": "2025-03-09T03:50:33.204048Z",
     "shell.execute_reply.started": "2025-03-09T03:50:31.185052Z"
    },
    "trusted": true
   },
   "outputs": [],
   "source": [
    "X_train_processed = preprocessor.fit_transform(X_train)\n",
    "X_test_processed = preprocessor.transform(X_test)"
   ]
  },
  {
   "cell_type": "code",
   "execution_count": null,
   "metadata": {
    "execution": {
     "iopub.execute_input": "2025-03-09T03:50:34.644514Z",
     "iopub.status.busy": "2025-03-09T03:50:34.644141Z",
     "iopub.status.idle": "2025-03-09T03:50:34.654019Z",
     "shell.execute_reply": "2025-03-09T03:50:34.653047Z",
     "shell.execute_reply.started": "2025-03-09T03:50:34.644482Z"
    },
    "trusted": true
   },
   "outputs": [],
   "source": [
    "class_ratio = len(y_train[y_train == 0]) / len(y_train[y_train == 1])\n",
    "model = XGBClassifier(\n",
    "    n_estimators=300,\n",
    "    max_depth=8,\n",
    "    learning_rate=0.1,\n",
    "    subsample=0.8,\n",
    "    colsample_bytree=0.8,\n",
    "    scale_pos_weight=class_ratio,\n",
    "    random_state=42,\n",
    "    eval_metric='logloss',\n",
    "    use_label_encoder=False\n",
    ")\n"
   ]
  },
  {
   "cell_type": "code",
   "execution_count": null,
   "metadata": {
    "execution": {
     "iopub.execute_input": "2025-03-09T03:50:35.959833Z",
     "iopub.status.busy": "2025-03-09T03:50:35.959456Z",
     "iopub.status.idle": "2025-03-09T03:50:41.110368Z",
     "shell.execute_reply": "2025-03-09T03:50:41.109276Z",
     "shell.execute_reply.started": "2025-03-09T03:50:35.959800Z"
    },
    "trusted": true
   },
   "outputs": [],
   "source": [
    "model.fit(X_train_processed, y_train)"
   ]
  },
  {
   "cell_type": "code",
   "execution_count": null,
   "metadata": {
    "execution": {
     "iopub.execute_input": "2025-03-09T03:50:42.859770Z",
     "iopub.status.busy": "2025-03-09T03:50:42.859371Z",
     "iopub.status.idle": "2025-03-09T03:50:42.915385Z",
     "shell.execute_reply": "2025-03-09T03:50:42.914619Z",
     "shell.execute_reply.started": "2025-03-09T03:50:42.859734Z"
    },
    "trusted": true
   },
   "outputs": [],
   "source": [
    "y_pred = model.predict(X_test_processed)"
   ]
  },
  {
   "cell_type": "code",
   "execution_count": null,
   "metadata": {
    "execution": {
     "iopub.execute_input": "2025-03-09T03:50:44.069348Z",
     "iopub.status.busy": "2025-03-09T03:50:44.068980Z",
     "iopub.status.idle": "2025-03-09T03:50:44.082847Z",
     "shell.execute_reply": "2025-03-09T03:50:44.081768Z",
     "shell.execute_reply.started": "2025-03-09T03:50:44.069316Z"
    },
    "trusted": true
   },
   "outputs": [],
   "source": [
    "submission = pd.DataFrame({\"id\": range(len(y_pred)), \"target\": y_pred})\n",
    "submission.to_csv(\"/kaggle/working/submission.csv\", index=False)"
   ]
  },
  {
   "cell_type": "code",
   "execution_count": null,
   "metadata": {
    "execution": {
     "iopub.execute_input": "2025-03-09T03:50:45.121793Z",
     "iopub.status.busy": "2025-03-09T03:50:45.121418Z",
     "iopub.status.idle": "2025-03-09T03:50:45.127838Z",
     "shell.execute_reply": "2025-03-09T03:50:45.126799Z",
     "shell.execute_reply.started": "2025-03-09T03:50:45.121763Z"
    },
    "trusted": true
   },
   "outputs": [],
   "source": [
    "y_pred"
   ]
  },
  {
   "cell_type": "code",
   "execution_count": null,
   "metadata": {
    "execution": {
     "iopub.execute_input": "2025-03-09T03:50:47.259719Z",
     "iopub.status.busy": "2025-03-09T03:50:47.259320Z",
     "iopub.status.idle": "2025-03-09T03:50:47.274484Z",
     "shell.execute_reply": "2025-03-09T03:50:47.273529Z",
     "shell.execute_reply.started": "2025-03-09T03:50:47.259683Z"
    },
    "trusted": true
   },
   "outputs": [],
   "source": [
    "submission = pd.DataFrame({\"id\":range(0,X_test.shape[0]),\"target\":y_pred})\n",
    "submission.head()"
   ]
  },
  {
   "cell_type": "code",
   "execution_count": null,
   "metadata": {
    "execution": {
     "iopub.execute_input": "2025-03-09T03:50:48.359683Z",
     "iopub.status.busy": "2025-03-09T03:50:48.359329Z",
     "iopub.status.idle": "2025-03-09T03:50:48.371590Z",
     "shell.execute_reply": "2025-03-09T03:50:48.370681Z",
     "shell.execute_reply.started": "2025-03-09T03:50:48.359655Z"
    },
    "trusted": true
   },
   "outputs": [],
   "source": [
    "submission.to_csv('submission.csv',index = False)"
   ]
  },
  {
   "cell_type": "markdown",
   "metadata": {},
   "source": [
    "## Milestone 3"
   ]
  },
  {
   "cell_type": "code",
   "execution_count": 18,
   "metadata": {
    "execution": {
     "iopub.execute_input": "2025-03-09T06:23:00.501980Z",
     "iopub.status.busy": "2025-03-09T06:23:00.501599Z",
     "iopub.status.idle": "2025-03-09T06:23:00.522049Z",
     "shell.execute_reply": "2025-03-09T06:23:00.520857Z",
     "shell.execute_reply.started": "2025-03-09T06:23:00.501949Z"
    },
    "trusted": true
   },
   "outputs": [],
   "source": [
    "import numpy as np\n",
    "import pandas as pd\n",
    "from sklearn.model_selection import train_test_split, GridSearchCV\n",
    "from sklearn.preprocessing import LabelEncoder, StandardScaler ,OneHotEncoder\n",
    "from sklearn.impute import SimpleImputer\n",
    "from sklearn.tree import DecisionTreeClassifier\n",
    "from sklearn.ensemble import AdaBoostClassifier\n",
    "from sklearn.metrics import accuracy_score\n",
    "from sklearn.pipeline import Pipeline\n",
    "from sklearn.compose import ColumnTransformer"
   ]
  },
  {
   "cell_type": "code",
   "execution_count": 20,
   "metadata": {
    "execution": {
     "iopub.execute_input": "2025-03-09T06:24:17.519234Z",
     "iopub.status.busy": "2025-03-09T06:24:17.518898Z",
     "iopub.status.idle": "2025-03-09T06:24:18.553687Z",
     "shell.execute_reply": "2025-03-09T06:24:18.552699Z",
     "shell.execute_reply.started": "2025-03-09T06:24:17.519211Z"
    },
    "trusted": true
   },
   "outputs": [],
   "source": [
    "df = pd.read_csv(\"/kaggle/input/System-Threat-Forecaster/train.csv\")\n",
    "X = df.drop(columns = [\"target\"])\n",
    "y = df[\"target\"]"
   ]
  },
  {
   "cell_type": "code",
   "execution_count": 21,
   "metadata": {
    "execution": {
     "iopub.execute_input": "2025-03-09T06:24:25.885011Z",
     "iopub.status.busy": "2025-03-09T06:24:25.884656Z",
     "iopub.status.idle": "2025-03-09T06:24:25.917074Z",
     "shell.execute_reply": "2025-03-09T06:24:25.916058Z",
     "shell.execute_reply.started": "2025-03-09T06:24:25.884981Z"
    },
    "trusted": true
   },
   "outputs": [],
   "source": [
    "categorical_cols = X.select_dtypes(include=['object']).columns\n",
    "numeric_cols = X.select_dtypes(include=['int64', 'float64']).columns"
   ]
  },
  {
   "cell_type": "code",
   "execution_count": 22,
   "metadata": {
    "execution": {
     "iopub.execute_input": "2025-03-09T06:24:27.370030Z",
     "iopub.status.busy": "2025-03-09T06:24:27.369694Z",
     "iopub.status.idle": "2025-03-09T06:24:27.374140Z",
     "shell.execute_reply": "2025-03-09T06:24:27.373143Z",
     "shell.execute_reply.started": "2025-03-09T06:24:27.370004Z"
    },
    "trusted": true
   },
   "outputs": [],
   "source": [
    "categorical_transformer = Pipeline([\n",
    "    (\"imputer\", SimpleImputer(strategy=\"most_frequent\")),\n",
    "    (\"encoder\", OneHotEncoder(handle_unknown=\"ignore\")) \n",
    "])"
   ]
  },
  {
   "cell_type": "code",
   "execution_count": 23,
   "metadata": {
    "execution": {
     "iopub.execute_input": "2025-03-09T06:24:28.087798Z",
     "iopub.status.busy": "2025-03-09T06:24:28.087441Z",
     "iopub.status.idle": "2025-03-09T06:24:28.092243Z",
     "shell.execute_reply": "2025-03-09T06:24:28.091106Z",
     "shell.execute_reply.started": "2025-03-09T06:24:28.087768Z"
    },
    "trusted": true
   },
   "outputs": [],
   "source": [
    "numeric_transformer = Pipeline([\n",
    "    (\"imputer\", SimpleImputer(strategy=\"mean\")),\n",
    "    (\"scaler\", StandardScaler())\n",
    "])"
   ]
  },
  {
   "cell_type": "code",
   "execution_count": 24,
   "metadata": {
    "execution": {
     "iopub.execute_input": "2025-03-09T06:24:28.582761Z",
     "iopub.status.busy": "2025-03-09T06:24:28.582401Z",
     "iopub.status.idle": "2025-03-09T06:24:28.587156Z",
     "shell.execute_reply": "2025-03-09T06:24:28.585948Z",
     "shell.execute_reply.started": "2025-03-09T06:24:28.582732Z"
    },
    "trusted": true
   },
   "outputs": [],
   "source": [
    "preprocessor = ColumnTransformer([\n",
    "    (\"num\", numeric_transformer, numeric_cols),\n",
    "    (\"cat\", categorical_transformer, categorical_cols)\n",
    "])"
   ]
  },
  {
   "cell_type": "code",
   "execution_count": 25,
   "metadata": {
    "execution": {
     "iopub.execute_input": "2025-03-09T06:25:03.294569Z",
     "iopub.status.busy": "2025-03-09T06:25:03.294181Z",
     "iopub.status.idle": "2025-03-09T06:25:03.387281Z",
     "shell.execute_reply": "2025-03-09T06:25:03.386224Z",
     "shell.execute_reply.started": "2025-03-09T06:25:03.294534Z"
    },
    "trusted": true
   },
   "outputs": [],
   "source": [
    "X_train , X_test ,y_train , y_test = train_test_split(\n",
    "    X, y, test_size=0.2, random_state=42\n",
    ")"
   ]
  },
  {
   "cell_type": "code",
   "execution_count": 26,
   "metadata": {
    "execution": {
     "iopub.execute_input": "2025-03-09T06:25:24.031096Z",
     "iopub.status.busy": "2025-03-09T06:25:24.030776Z",
     "iopub.status.idle": "2025-03-09T06:25:24.035493Z",
     "shell.execute_reply": "2025-03-09T06:25:24.034330Z",
     "shell.execute_reply.started": "2025-03-09T06:25:24.031070Z"
    },
    "trusted": true
   },
   "outputs": [],
   "source": [
    "dt_pipeline = Pipeline([\n",
    "    (\"preprocessing\", preprocessor),\n",
    "    (\"model\", DecisionTreeClassifier(random_state=42))\n",
    "])"
   ]
  },
  {
   "cell_type": "code",
   "execution_count": 27,
   "metadata": {
    "execution": {
     "iopub.execute_input": "2025-03-09T06:25:33.050878Z",
     "iopub.status.busy": "2025-03-09T06:25:33.050515Z",
     "iopub.status.idle": "2025-03-09T06:25:33.055039Z",
     "shell.execute_reply": "2025-03-09T06:25:33.053983Z",
     "shell.execute_reply.started": "2025-03-09T06:25:33.050851Z"
    },
    "trusted": true
   },
   "outputs": [],
   "source": [
    "dt_param_grid = {\n",
    "    \"model__max_depth\": [20, 30],\n",
    "    \"model__min_samples_split\": [2, 5],\n",
    "    \"model__min_samples_leaf\": [1, 2]\n",
    "}"
   ]
  },
  {
   "cell_type": "markdown",
   "metadata": {
    "execution": {
     "iopub.execute_input": "2025-03-12T08:46:00.660263Z",
     "iopub.status.busy": "2025-03-12T08:46:00.659857Z",
     "iopub.status.idle": "2025-03-12T08:46:00.664969Z",
     "shell.execute_reply": "2025-03-12T08:46:00.663530Z",
     "shell.execute_reply.started": "2025-03-12T08:46:00.660225Z"
    }
   },
   "source": [
    "## Milestone 5"
   ]
  },
  {
   "cell_type": "code",
   "execution_count": 2,
   "metadata": {
    "execution": {
     "iopub.execute_input": "2025-03-12T08:45:23.201433Z",
     "iopub.status.busy": "2025-03-12T08:45:23.201017Z",
     "iopub.status.idle": "2025-03-12T08:45:25.126499Z",
     "shell.execute_reply": "2025-03-12T08:45:25.125308Z",
     "shell.execute_reply.started": "2025-03-12T08:45:23.201399Z"
    },
    "trusted": true
   },
   "outputs": [
    {
     "data": {
      "text/html": [
       "<div>\n",
       "<style scoped>\n",
       "    .dataframe tbody tr th:only-of-type {\n",
       "        vertical-align: middle;\n",
       "    }\n",
       "\n",
       "    .dataframe tbody tr th {\n",
       "        vertical-align: top;\n",
       "    }\n",
       "\n",
       "    .dataframe thead th {\n",
       "        text-align: right;\n",
       "    }\n",
       "</style>\n",
       "<table border=\"1\" class=\"dataframe\">\n",
       "  <thead>\n",
       "    <tr style=\"text-align: right;\">\n",
       "      <th></th>\n",
       "      <th>MachineID</th>\n",
       "      <th>ProductName</th>\n",
       "      <th>EngineVersion</th>\n",
       "      <th>AppVersion</th>\n",
       "      <th>SignatureVersion</th>\n",
       "      <th>IsBetaUser</th>\n",
       "      <th>RealTimeProtectionState</th>\n",
       "      <th>IsPassiveModeEnabled</th>\n",
       "      <th>AntivirusConfigID</th>\n",
       "      <th>NumAntivirusProductsInstalled</th>\n",
       "      <th>...</th>\n",
       "      <th>IsSecureBootEnabled</th>\n",
       "      <th>IsVirtualDevice</th>\n",
       "      <th>IsTouchEnabled</th>\n",
       "      <th>IsPenCapable</th>\n",
       "      <th>IsAlwaysOnAlwaysConnectedCapable</th>\n",
       "      <th>IsGamer</th>\n",
       "      <th>RegionIdentifier</th>\n",
       "      <th>DateAS</th>\n",
       "      <th>DateOS</th>\n",
       "      <th>target</th>\n",
       "    </tr>\n",
       "  </thead>\n",
       "  <tbody>\n",
       "    <tr>\n",
       "      <th>0</th>\n",
       "      <td>f541bae429089117c4aac39c90dd3416</td>\n",
       "      <td>win8defender</td>\n",
       "      <td>1.1.15200.1</td>\n",
       "      <td>4.18.1807.18075</td>\n",
       "      <td>1.275.1003.0</td>\n",
       "      <td>0</td>\n",
       "      <td>7.0</td>\n",
       "      <td>0</td>\n",
       "      <td>53447.0</td>\n",
       "      <td>1.0</td>\n",
       "      <td>...</td>\n",
       "      <td>0</td>\n",
       "      <td>0.0</td>\n",
       "      <td>1</td>\n",
       "      <td>0</td>\n",
       "      <td>1.0</td>\n",
       "      <td>0.0</td>\n",
       "      <td>6.0</td>\n",
       "      <td>2018-09-10 10:11:00</td>\n",
       "      <td>2018-04-17</td>\n",
       "      <td>0</td>\n",
       "    </tr>\n",
       "    <tr>\n",
       "      <th>1</th>\n",
       "      <td>dc2b14d9ce3a0ce4050bb640190f2ca5</td>\n",
       "      <td>win8defender</td>\n",
       "      <td>1.1.15100.1</td>\n",
       "      <td>4.18.1807.18075</td>\n",
       "      <td>1.273.1465.0</td>\n",
       "      <td>0</td>\n",
       "      <td>7.0</td>\n",
       "      <td>0</td>\n",
       "      <td>53447.0</td>\n",
       "      <td>1.0</td>\n",
       "      <td>...</td>\n",
       "      <td>1</td>\n",
       "      <td>0.0</td>\n",
       "      <td>0</td>\n",
       "      <td>0</td>\n",
       "      <td>0.0</td>\n",
       "      <td>0.0</td>\n",
       "      <td>10.0</td>\n",
       "      <td>2018-08-16 00:01:00</td>\n",
       "      <td>2018-08-14</td>\n",
       "      <td>1</td>\n",
       "    </tr>\n",
       "    <tr>\n",
       "      <th>2</th>\n",
       "      <td>fd20c5f010e9c5f91ad1c6b3e0da68a0</td>\n",
       "      <td>win8defender</td>\n",
       "      <td>1.1.15200.1</td>\n",
       "      <td>4.18.1807.18075</td>\n",
       "      <td>1.275.1546.0</td>\n",
       "      <td>0</td>\n",
       "      <td>7.0</td>\n",
       "      <td>0</td>\n",
       "      <td>53447.0</td>\n",
       "      <td>1.0</td>\n",
       "      <td>...</td>\n",
       "      <td>0</td>\n",
       "      <td>0.0</td>\n",
       "      <td>0</td>\n",
       "      <td>0</td>\n",
       "      <td>0.0</td>\n",
       "      <td>1.0</td>\n",
       "      <td>6.0</td>\n",
       "      <td>2018-09-20 23:20:00</td>\n",
       "      <td>2018-09-11</td>\n",
       "      <td>1</td>\n",
       "    </tr>\n",
       "    <tr>\n",
       "      <th>3</th>\n",
       "      <td>38711eae85eb77a72ec5dfdf27eb2a76</td>\n",
       "      <td>win8defender</td>\n",
       "      <td>1.1.15200.1</td>\n",
       "      <td>4.12.17007.18011</td>\n",
       "      <td>1.275.1141.0</td>\n",
       "      <td>0</td>\n",
       "      <td>7.0</td>\n",
       "      <td>0</td>\n",
       "      <td>46413.0</td>\n",
       "      <td>2.0</td>\n",
       "      <td>...</td>\n",
       "      <td>1</td>\n",
       "      <td>0.0</td>\n",
       "      <td>0</td>\n",
       "      <td>0</td>\n",
       "      <td>0.0</td>\n",
       "      <td>0.0</td>\n",
       "      <td>12.0</td>\n",
       "      <td>2018-09-14 00:32:00</td>\n",
       "      <td>2018-01-03</td>\n",
       "      <td>1</td>\n",
       "    </tr>\n",
       "    <tr>\n",
       "      <th>4</th>\n",
       "      <td>32607c9a543a9214e2c7e45800ed4849</td>\n",
       "      <td>win8defender</td>\n",
       "      <td>1.1.15200.1</td>\n",
       "      <td>4.13.17134.228</td>\n",
       "      <td>1.275.1283.0</td>\n",
       "      <td>0</td>\n",
       "      <td>7.0</td>\n",
       "      <td>0</td>\n",
       "      <td>40466.0</td>\n",
       "      <td>2.0</td>\n",
       "      <td>...</td>\n",
       "      <td>0</td>\n",
       "      <td>0.0</td>\n",
       "      <td>0</td>\n",
       "      <td>0</td>\n",
       "      <td>0.0</td>\n",
       "      <td>1.0</td>\n",
       "      <td>7.0</td>\n",
       "      <td>2018-09-15 19:34:00</td>\n",
       "      <td>2018-09-11</td>\n",
       "      <td>0</td>\n",
       "    </tr>\n",
       "  </tbody>\n",
       "</table>\n",
       "<p>5 rows × 76 columns</p>\n",
       "</div>"
      ],
      "text/plain": [
       "                          MachineID   ProductName EngineVersion  \\\n",
       "0  f541bae429089117c4aac39c90dd3416  win8defender   1.1.15200.1   \n",
       "1  dc2b14d9ce3a0ce4050bb640190f2ca5  win8defender   1.1.15100.1   \n",
       "2  fd20c5f010e9c5f91ad1c6b3e0da68a0  win8defender   1.1.15200.1   \n",
       "3  38711eae85eb77a72ec5dfdf27eb2a76  win8defender   1.1.15200.1   \n",
       "4  32607c9a543a9214e2c7e45800ed4849  win8defender   1.1.15200.1   \n",
       "\n",
       "         AppVersion SignatureVersion  IsBetaUser  RealTimeProtectionState  \\\n",
       "0   4.18.1807.18075     1.275.1003.0           0                      7.0   \n",
       "1   4.18.1807.18075     1.273.1465.0           0                      7.0   \n",
       "2   4.18.1807.18075     1.275.1546.0           0                      7.0   \n",
       "3  4.12.17007.18011     1.275.1141.0           0                      7.0   \n",
       "4    4.13.17134.228     1.275.1283.0           0                      7.0   \n",
       "\n",
       "   IsPassiveModeEnabled  AntivirusConfigID  NumAntivirusProductsInstalled  \\\n",
       "0                     0            53447.0                            1.0   \n",
       "1                     0            53447.0                            1.0   \n",
       "2                     0            53447.0                            1.0   \n",
       "3                     0            46413.0                            2.0   \n",
       "4                     0            40466.0                            2.0   \n",
       "\n",
       "   ...  IsSecureBootEnabled  IsVirtualDevice  IsTouchEnabled  IsPenCapable  \\\n",
       "0  ...                    0              0.0               1             0   \n",
       "1  ...                    1              0.0               0             0   \n",
       "2  ...                    0              0.0               0             0   \n",
       "3  ...                    1              0.0               0             0   \n",
       "4  ...                    0              0.0               0             0   \n",
       "\n",
       "   IsAlwaysOnAlwaysConnectedCapable  IsGamer RegionIdentifier  \\\n",
       "0                               1.0      0.0              6.0   \n",
       "1                               0.0      0.0             10.0   \n",
       "2                               0.0      1.0              6.0   \n",
       "3                               0.0      0.0             12.0   \n",
       "4                               0.0      1.0              7.0   \n",
       "\n",
       "                DateAS      DateOS  target  \n",
       "0  2018-09-10 10:11:00  2018-04-17       0  \n",
       "1  2018-08-16 00:01:00  2018-08-14       1  \n",
       "2  2018-09-20 23:20:00  2018-09-11       1  \n",
       "3  2018-09-14 00:32:00  2018-01-03       1  \n",
       "4  2018-09-15 19:34:00  2018-09-11       0  \n",
       "\n",
       "[5 rows x 76 columns]"
      ]
     },
     "execution_count": 2,
     "metadata": {},
     "output_type": "execute_result"
    }
   ],
   "source": [
    "import pandas as pd\n",
    "df = pd.read_csv(\"/kaggle/input/System-Threat-Forecaster/train.csv\")\n",
    "df.head()"
   ]
  },
  {
   "cell_type": "code",
   "execution_count": 13,
   "metadata": {
    "execution": {
     "iopub.execute_input": "2025-03-12T08:50:29.282583Z",
     "iopub.status.busy": "2025-03-12T08:50:29.282134Z",
     "iopub.status.idle": "2025-03-12T08:50:29.314041Z",
     "shell.execute_reply": "2025-03-12T08:50:29.312761Z",
     "shell.execute_reply.started": "2025-03-12T08:50:29.282550Z"
    },
    "trusted": true
   },
   "outputs": [],
   "source": [
    "X = df.drop(columns=['target'])  \n",
    "y = df['target']"
   ]
  },
  {
   "cell_type": "code",
   "execution_count": 14,
   "metadata": {
    "execution": {
     "iopub.execute_input": "2025-03-12T08:50:30.455986Z",
     "iopub.status.busy": "2025-03-12T08:50:30.455640Z",
     "iopub.status.idle": "2025-03-12T08:50:31.181641Z",
     "shell.execute_reply": "2025-03-12T08:50:31.180150Z",
     "shell.execute_reply.started": "2025-03-12T08:50:30.455959Z"
    },
    "trusted": true
   },
   "outputs": [],
   "source": [
    "from sklearn.impute import SimpleImputer\n",
    "\n",
    "categorical_cols = X.select_dtypes(include=['object', 'category']).columns\n",
    "numeric_cols = X.select_dtypes(include=['int64', 'float64']).columns\n",
    "\n",
    "cat_imputer = SimpleImputer(strategy='most_frequent')\n",
    "X[categorical_cols] = cat_imputer.fit_transform(X[categorical_cols])\n",
    "\n",
    "num_imputer = SimpleImputer(strategy='mean')\n",
    "X[numeric_cols] = num_imputer.fit_transform(X[numeric_cols])"
   ]
  },
  {
   "cell_type": "code",
   "execution_count": 15,
   "metadata": {
    "execution": {
     "iopub.execute_input": "2025-03-12T08:50:32.290636Z",
     "iopub.status.busy": "2025-03-12T08:50:32.290224Z",
     "iopub.status.idle": "2025-03-12T08:50:32.514553Z",
     "shell.execute_reply": "2025-03-12T08:50:32.513134Z",
     "shell.execute_reply.started": "2025-03-12T08:50:32.290603Z"
    },
    "trusted": true
   },
   "outputs": [],
   "source": [
    "from sklearn.preprocessing import StandardScaler\n",
    "\n",
    "scaler = StandardScaler()\n",
    "X[numeric_cols] = scaler.fit_transform(X[numeric_cols])"
   ]
  },
  {
   "cell_type": "code",
   "execution_count": 16,
   "metadata": {
    "execution": {
     "iopub.execute_input": "2025-03-12T08:50:33.673379Z",
     "iopub.status.busy": "2025-03-12T08:50:33.672949Z",
     "iopub.status.idle": "2025-03-12T08:50:35.038765Z",
     "shell.execute_reply": "2025-03-12T08:50:35.037743Z",
     "shell.execute_reply.started": "2025-03-12T08:50:33.673340Z"
    },
    "trusted": true
   },
   "outputs": [],
   "source": [
    "from sklearn.preprocessing import OrdinalEncoder\n",
    "\n",
    "encoder = OrdinalEncoder()\n",
    "X[categorical_cols] = encoder.fit_transform(X[categorical_cols])\n"
   ]
  },
  {
   "cell_type": "code",
   "execution_count": 17,
   "metadata": {
    "execution": {
     "iopub.execute_input": "2025-03-12T08:50:37.493588Z",
     "iopub.status.busy": "2025-03-12T08:50:37.493112Z",
     "iopub.status.idle": "2025-03-12T08:50:37.658645Z",
     "shell.execute_reply": "2025-03-12T08:50:37.657391Z",
     "shell.execute_reply.started": "2025-03-12T08:50:37.493548Z"
    },
    "trusted": true
   },
   "outputs": [],
   "source": [
    "from sklearn.model_selection import train_test_split\n",
    "\n",
    "X_train, X_test, y_train, y_test = train_test_split(X, y, test_size=0.2, random_state=42)"
   ]
  },
  {
   "cell_type": "code",
   "execution_count": 20,
   "metadata": {
    "execution": {
     "iopub.execute_input": "2025-03-12T08:53:19.499001Z",
     "iopub.status.busy": "2025-03-12T08:53:19.498603Z",
     "iopub.status.idle": "2025-03-12T08:53:23.192160Z",
     "shell.execute_reply": "2025-03-12T08:53:23.190943Z",
     "shell.execute_reply.started": "2025-03-12T08:53:19.498974Z"
    },
    "trusted": true
   },
   "outputs": [
    {
     "name": "stdout",
     "output_type": "stream",
     "text": [
      "10881\n",
      "4500\n",
      "0.5388871810636335\n"
     ]
    }
   ],
   "source": [
    "from sklearn.tree import DecisionTreeClassifier\n",
    "from sklearn.metrics import confusion_matrix, precision_score\n",
    "\n",
    "dt = DecisionTreeClassifier(random_state=42)\n",
    "dt.fit(X_train, y_train)\n",
    "\n",
    "y_pred = dt.predict(X_test)\n",
    "\n",
    "cm_dt = confusion_matrix(y_test, y_pred)\n",
    "correctly_classified = cm_dt.trace() \n",
    "incorrect = cm_dt[1, 0]  \n",
    "\n",
    "precision = precision_score(y_test, y_pred, pos_label=0)\n",
    "\n",
    "print(correctly_classified)\n",
    "print(incorrect)\n",
    "print(precision)"
   ]
  },
  {
   "cell_type": "code",
   "execution_count": 23,
   "metadata": {
    "execution": {
     "iopub.execute_input": "2025-03-12T09:03:28.675989Z",
     "iopub.status.busy": "2025-03-12T09:03:28.675486Z",
     "iopub.status.idle": "2025-03-12T09:03:30.774479Z",
     "shell.execute_reply": "2025-03-12T09:03:30.773452Z",
     "shell.execute_reply.started": "2025-03-12T09:03:28.675947Z"
    },
    "trusted": true
   },
   "outputs": [
    {
     "name": "stdout",
     "output_type": "stream",
     "text": [
      "10122\n",
      "0\n",
      "1.0\n"
     ]
    }
   ],
   "source": [
    "from sklearn.ensemble import AdaBoostClassifier\n",
    "from sklearn.metrics import recall_score\n",
    "\n",
    "adaboost_model = AdaBoostClassifier(n_estimators=10, learning_rate=10, random_state=42)\n",
    "adaboost_model.fit(X_train, y_train)\n",
    "\n",
    "y_pred_ada = adaboost_model.predict(X_test)\n",
    "\n",
    "cm_ada = confusion_matrix(y_test, y_pred_ada)\n",
    "correctly_classified = cm_ada.trace()\n",
    "incorrect = cm_ada[1, 0]\n",
    "\n",
    "recall = recall_score(y_test, y_pred_ada)\n",
    "\n",
    "print(correctly_classified)\n",
    "print(incorrect)\n",
    "print(recall)"
   ]
  },
  {
   "cell_type": "code",
   "execution_count": 24,
   "metadata": {
    "execution": {
     "iopub.execute_input": "2025-03-12T09:04:39.318232Z",
     "iopub.status.busy": "2025-03-12T09:04:39.317803Z",
     "iopub.status.idle": "2025-03-12T09:04:39.970763Z",
     "shell.execute_reply": "2025-03-12T09:04:39.969433Z",
     "shell.execute_reply.started": "2025-03-12T09:04:39.318195Z"
    },
    "trusted": true
   },
   "outputs": [
    {
     "name": "stdout",
     "output_type": "stream",
     "text": [
      "10705\n",
      "7022\n",
      "0.7754396364354871\n"
     ]
    }
   ],
   "source": [
    "from sklearn.linear_model import LogisticRegression\n",
    "lr_model = LogisticRegression()\n",
    "lr_model.fit(X_train, y_train)\n",
    "\n",
    "y_pred_lr = lr_model.predict(X_test)\n",
    "\n",
    "cm_lr = confusion_matrix(y_test, y_pred_lr)\n",
    "correctly_classified = cm_lr.trace()\n",
    "incorrect = cm_lr[0, 1]\n",
    "\n",
    "recall = recall_score(y_test, y_pred_lr)\n",
    "\n",
    "print(correctly_classified)\n",
    "print(incorrect)\n",
    "print(recall)"
   ]
  },
  {
   "cell_type": "code",
   "execution_count": null,
   "metadata": {
    "trusted": true
   },
   "outputs": [],
   "source": []
  }
 ],
 "metadata": {
  "kaggle": {
   "accelerator": "none",
   "dataSources": [
    {
     "databundleVersionId": 10592855,
     "sourceId": 90791,
     "sourceType": "competition"
    }
   ],
   "dockerImageVersionId": 30839,
   "isGpuEnabled": false,
   "isInternetEnabled": false,
   "language": "python",
   "sourceType": "notebook"
  },
  "kernelspec": {
   "display_name": "Python 3",
   "language": "python",
   "name": "python3"
  },
  "language_info": {
   "codemirror_mode": {
    "name": "ipython",
    "version": 3
   },
   "file_extension": ".py",
   "mimetype": "text/x-python",
   "name": "python",
   "nbconvert_exporter": "python",
   "pygments_lexer": "ipython3",
   "version": "3.10.12"
  }
 },
 "nbformat": 4,
 "nbformat_minor": 4
}
